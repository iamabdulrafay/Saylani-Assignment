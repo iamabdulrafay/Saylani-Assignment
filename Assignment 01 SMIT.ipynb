{
 "cells": [
  {
   "cell_type": "markdown",
   "metadata": {},
   "source": [
    "# Part -1 Python Basics (Variables)"
   ]
  },
  {
   "cell_type": "markdown",
   "metadata": {},
   "source": [
    "1. Print Your Name with your Father name and Date of birth using suitable escape sequence charactor"
   ]
  },
  {
   "cell_type": "code",
   "execution_count": null,
   "metadata": {},
   "outputs": [
    {
     "name": "stdout",
     "output_type": "stream",
     "text": [
      "My name is \"Muhammad Kabir ud din\" and my father is \"Abdul Sattar\".\n"
     ]
    }
   ],
   "source": [
    "print(\"My name is \\\"Abdul Rafay Khan\\\" and my father is \\\"Abdul Kareem\\\".\")"
   ]
  },
  {
   "cell_type": "markdown",
   "metadata": {},
   "source": [
    "2. Write your small bio using variables and print it using print function"
   ]
  },
  {
   "cell_type": "code",
   "execution_count": null,
   "metadata": {},
   "outputs": [
    {
     "name": "stdout",
     "output_type": "stream",
     "text": [
      "My name is Muhammad Kabir ud din.\n",
      "I have completed MCom and Islamic Scholar Course.\n",
      "I am currently teaching in an Islamic College.\n",
      "\n"
     ]
    }
   ],
   "source": [
    "print(\"\"\"My name is Abdul Rafay Khan.\n",
    "I have completed my matric-grade studies at Al Kahlil Huffaz School with a focus on Computer Science and done 2 different IT courses from Al-khidmat BanoQabil.\n",
    "I am currently doing I.CS from Islamia College Karachi.\n",
    "\"\"\")"
   ]
  },
  {
   "cell_type": "markdown",
   "metadata": {},
   "source": [
    "3. Write a program in which use all the operators we can use in Python"
   ]
  },
  {
   "cell_type": "code",
   "execution_count": 68,
   "metadata": {},
   "outputs": [
    {
     "name": "stdout",
     "output_type": "stream",
     "text": [
      "5\n",
      "-1\n",
      "6\n",
      "0.6666666666666666\n",
      "8\n",
      "1\n",
      "1\n",
      "False\n",
      "True\n",
      "False\n",
      "True\n",
      "False\n",
      "True\n",
      "True\n",
      "False\n",
      "True\n",
      "True\n",
      "False\n",
      "True\n"
     ]
    }
   ],
   "source": [
    "# Arithematic Operators\n",
    "a = 2\n",
    "b = 3\n",
    "\n",
    "print(a+b) #Addition\n",
    "print(a-b) #Subtraction\n",
    "print(a*b) #Multiplication\n",
    "print(a/b) #Division\n",
    "print(a**b) #Power\n",
    "print(b%a) #Modulus to get remaining number after division\n",
    "print(b//a) #Floor Division\n",
    "\n",
    "# Comparison Operator\n",
    "print(a == b) # a and b are equal\n",
    "print(a != b) # a and b are not equal\n",
    "print(a > b) # a is greater than b \n",
    "print(a < b) # a is smaller than b\n",
    "print(a >= b) # a is greater than or equal to b\n",
    "print(a <= b) # a is smaller than or equal to b\n",
    "\n",
    "# Logical Operator\n",
    "# and returns true when both statements are true\n",
    "print(a < 5 and a < 3)\n",
    "print(a < 5 and a > 3)\n",
    "\n",
    "# or returns true if one of the statements are true and returns false if both are false\n",
    "print(a < 5 or a < 3)\n",
    "print(a < 5 or a > 3)\n",
    "print(a > 5 or a > 3)\n",
    "\n",
    "# not return true when the statement is false\n",
    "print(not(a > 5 or a > 3))"
   ]
  },
  {
   "cell_type": "markdown",
   "metadata": {},
   "source": [
    "4. Completes the following steps of small task:\n",
    "    - Mention Marks of English , Islamiat and Maths out of 100 in 3 different variables\n",
    "    - Mention Variable of Total Marks and assign 300 to it\n",
    "    - Calculate Percentage"
   ]
  },
  {
   "cell_type": "code",
   "execution_count": 58,
   "metadata": {},
   "outputs": [
    {
     "name": "stdout",
     "output_type": "stream",
     "text": [
      "Your percentage is 86.67%.\n"
     ]
    }
   ],
   "source": [
    "english = 90\n",
    "islamiat = 95\n",
    "math = 75\n",
    "total_marks = 300\n",
    "obtained_marks = english + islamiat + math\n",
    "\n",
    "percentage = round(((obtained_marks/total_marks) * 100), 2)\n",
    "\n",
    "print(f\"Your percentage is {percentage}%.\")"
   ]
  },
  {
   "cell_type": "markdown",
   "metadata": {},
   "source": [
    "# Part -2 Python Basics (Conditional Statements)"
   ]
  },
  {
   "cell_type": "markdown",
   "metadata": {},
   "source": [
    "1) A company decided to give bonus of 5% to employee if his/her year of service is more than 5 years.\n",
    "Ask user for their salary and year of service and print the net bonus amount."
   ]
  },
  {
   "cell_type": "code",
   "execution_count": 14,
   "metadata": {},
   "outputs": [
    {
     "name": "stdout",
     "output_type": "stream",
     "text": [
      "Enter your salary amount:  50000\n",
      "Enter your year of services:  5\n"
     ]
    },
    {
     "name": "stdout",
     "output_type": "stream",
     "text": [
      "Your bonus for this year is 2500.0.\n"
     ]
    }
   ],
   "source": [
    "salary = int(input(\"Enter your salary amount: \"))\n",
    "service_years = int(input(\"Enter your year of services: \"))\n",
    "\n",
    "if service_years > 5:\n",
    "    bonus = salary * 5/100\n",
    "    print(f\"Your bonus for this year is {bonus}.\")\n",
    "else:\n",
    "    print(\"Sorry, you're not eligible for bonus.\")"
   ]
  },
  {
   "cell_type": "markdown",
   "metadata": {},
   "source": [
    "\n",
    "2) Write a program to check whether a person is eligible for voting or not. (accept age from user) if age is greater than 17 eligible otherwise not eligible"
   ]
  },
  {
   "cell_type": "code",
   "execution_count": 17,
   "metadata": {},
   "outputs": [
    {
     "name": "stdout",
     "output_type": "stream",
     "text": [
      "Enter your age:  18\n"
     ]
    },
    {
     "name": "stdout",
     "output_type": "stream",
     "text": [
      "You're eligible to vote.\n"
     ]
    }
   ],
   "source": [
    "age = int(input(\"Enter your age: \"))\n",
    "if age > 17:\n",
    "    print(\"You're eligible to vote.\")\n",
    "else:\n",
    "    print(\"Sorry, you're not eligible to vote.\")"
   ]
  },
  {
   "cell_type": "markdown",
   "metadata": {},
   "source": [
    "\n",
    "3) Write a program to check whether a number entered by user is even or odd."
   ]
  },
  {
   "cell_type": "code",
   "execution_count": 22,
   "metadata": {},
   "outputs": [
    {
     "name": "stdout",
     "output_type": "stream",
     "text": [
      "Enter a number:  15\n"
     ]
    },
    {
     "name": "stdout",
     "output_type": "stream",
     "text": [
      "The number is odd.\n"
     ]
    }
   ],
   "source": [
    "number = int(input(\"Enter a number: \"))\n",
    "if number % 2 == 0:\n",
    "    print(\"The number is even.\")\n",
    "else:\n",
    "    print(\"The number is odd.\")"
   ]
  },
  {
   "cell_type": "markdown",
   "metadata": {},
   "source": [
    "4) Write a program to check whether a number is divisible by 7 or not.\n",
    "Show Answer"
   ]
  },
  {
   "cell_type": "code",
   "execution_count": 25,
   "metadata": {},
   "outputs": [
    {
     "name": "stdout",
     "output_type": "stream",
     "text": [
      "Enter a number:  70\n"
     ]
    },
    {
     "name": "stdout",
     "output_type": "stream",
     "text": [
      "The number is divisible by 7.\n"
     ]
    }
   ],
   "source": [
    "number = int(input(\"Enter a number: \"))\n",
    "if number % 7 == 0:\n",
    "    print(\"The number is divisible by 7.\")\n",
    "else:\n",
    "    print(\"The number is not divisible by 7.\")"
   ]
  },
  {
   "cell_type": "markdown",
   "metadata": {},
   "source": [
    "5) Write a program to display \n",
    "\"Hello\" if a number entered by user is a multiple of five , otherwise print \"Bye\"."
   ]
  },
  {
   "cell_type": "code",
   "execution_count": 3,
   "metadata": {},
   "outputs": [
    {
     "name": "stdout",
     "output_type": "stream",
     "text": [
      "Enter a number:  15\n"
     ]
    },
    {
     "name": "stdout",
     "output_type": "stream",
     "text": [
      "Hello\n"
     ]
    }
   ],
   "source": [
    "num = int(input(\"Enter a number: \"))\n",
    "if num % 5 == 0:\n",
    "    print(\"Hello\")\n",
    "else:\n",
    "    print(\"Bye\")\n",
    "    "
   ]
  },
  {
   "cell_type": "markdown",
   "metadata": {},
   "source": [
    "7) Write a program to display the last digit of a number.\n"
   ]
  },
  {
   "cell_type": "code",
   "execution_count": 8,
   "metadata": {},
   "outputs": [
    {
     "name": "stdout",
     "output_type": "stream",
     "text": [
      "Enter a number:  175\n"
     ]
    },
    {
     "name": "stdout",
     "output_type": "stream",
     "text": [
      "5\n"
     ]
    }
   ],
   "source": [
    "number = int(input(\"Enter a number: \"))\n",
    "print(number % 10)"
   ]
  },
  {
   "cell_type": "markdown",
   "metadata": {},
   "source": [
    "9) Take values of length and breadth of a rectangle from user and print if it is square or rectangle."
   ]
  },
  {
   "cell_type": "code",
   "execution_count": 12,
   "metadata": {},
   "outputs": [
    {
     "name": "stdout",
     "output_type": "stream",
     "text": [
      "Enter lenght:  5\n",
      "Enter breadth:  6\n"
     ]
    },
    {
     "name": "stdout",
     "output_type": "stream",
     "text": [
      "This is a rectangle.\n"
     ]
    }
   ],
   "source": [
    "length = float(input(\"Enter lenght: \"))\n",
    "breadth = float(input(\"Enter breadth: \"))\n",
    "\n",
    "if length == breadth:\n",
    "    print(\"This is a square.\")\n",
    "else:\n",
    "    print(\"This is a rectangle.\")"
   ]
  },
  {
   "cell_type": "markdown",
   "metadata": {},
   "source": [
    "10) Take two int values from user and print greatest among them."
   ]
  },
  {
   "cell_type": "code",
   "execution_count": 15,
   "metadata": {},
   "outputs": [
    {
     "name": "stdout",
     "output_type": "stream",
     "text": [
      "Enter first number:  6\n",
      "Enter second number:  5\n"
     ]
    },
    {
     "name": "stdout",
     "output_type": "stream",
     "text": [
      "6\n"
     ]
    }
   ],
   "source": [
    "num1 = int(input(\"Enter first number: \"))\n",
    "num2 = int(input(\"Enter second number: \"))\n",
    "\n",
    "if num1 > num2:\n",
    "    print(num1)\n",
    "elif num2 > num1:\n",
    "    print(num2)\n",
    "else:\n",
    "    print(\"Both numbers are equal.\")"
   ]
  },
  {
   "cell_type": "markdown",
   "metadata": {},
   "source": [
    "11) A shop will give discount of 10% if the cost of purchased quantity is more than 1000.\n",
    "Ask user for quantity\n",
    "Suppose, one unit will cost 100.\n",
    "Judge and print total cost for user."
   ]
  },
  {
   "cell_type": "code",
   "execution_count": 19,
   "metadata": {},
   "outputs": [
    {
     "name": "stdout",
     "output_type": "stream",
     "text": [
      "How much quantity did you purchase?  340\n"
     ]
    },
    {
     "name": "stdout",
     "output_type": "stream",
     "text": [
      "Your bill is 34000 but you're rewarded discount of 3400.0 so kindly pay 30600.0.\n"
     ]
    }
   ],
   "source": [
    "unit_cost = 100\n",
    "quantity = int(input(\"How much quantity did you purchase? \"))\n",
    "total_cost = unit_cost * quantity\n",
    "discount = total_cost * 10/100\n",
    "amount_due = total_cost - discount\n",
    "if total_cost > 1000:\n",
    "        print(f\"Your bill is {total_cost} but you're rewarded discount of {discount} so kindly pay {amount_due}.\")\n",
    "else:\n",
    "    print(f\"Your bill is {total_cost}.\")"
   ]
  },
  {
   "cell_type": "markdown",
   "metadata": {},
   "source": [
    "12) A school has following rules for grading system:\n",
    "\n",
    "a. Below 25 - F\n",
    "\n",
    "b. 25 to 45 - E\n",
    "\n",
    "c. 45 to 50 - D\n",
    "\n",
    "d. 50 to 60 - C\n",
    "\n",
    "e. 60 to 80 - B\n",
    "\n",
    "f. Above 80 - A\n",
    "\n",
    "Ask user to enter marks and print the corresponding grade."
   ]
  },
  {
   "cell_type": "code",
   "execution_count": 22,
   "metadata": {},
   "outputs": [
    {
     "name": "stdout",
     "output_type": "stream",
     "text": [
      "Enter your marks:  50\n"
     ]
    },
    {
     "name": "stdout",
     "output_type": "stream",
     "text": [
      "Your grade is C\n"
     ]
    }
   ],
   "source": [
    "marks = int(input(\"Enter your marks: \"))\n",
    "\n",
    "if marks < 25:\n",
    "    print(\"Your grade is F\")\n",
    "elif  45 > marks >= 25 :\n",
    "    print(\"Your grade is E\")\n",
    "elif  50 > marks >= 45 :\n",
    "    print(\"Your grade is D\")\n",
    "elif  60 > marks >= 50 :\n",
    "    print(\"Your grade is C\")\n",
    "elif  80 > marks >= 60 :\n",
    "    print(\"Your grade is B\")\n",
    "elif marks >= 80 :\n",
    "    print(\"Your grade is A\")\n"
   ]
  },
  {
   "cell_type": "markdown",
   "metadata": {},
   "source": [
    "14)A student will not be allowed to sit in exam if his/her attendence is less than 75%.\n",
    "\n",
    "Take following input from user\n",
    "\n",
    "- Number of classes held\n",
    "\n",
    "- Number of classes attended.\n",
    "\n",
    "And print\n",
    "\n",
    "- percentage of class attended\n",
    "\n",
    "- Is student is allowed to sit in exam or not.\n"
   ]
  },
  {
   "cell_type": "code",
   "execution_count": 55,
   "metadata": {},
   "outputs": [
    {
     "name": "stdout",
     "output_type": "stream",
     "text": [
      "How many classes are held?  35\n",
      "How many classes did you attend?  30\n"
     ]
    },
    {
     "name": "stdout",
     "output_type": "stream",
     "text": [
      "You have attended 85.71% classes.\n",
      "You're allowed to sit in exams.\n"
     ]
    }
   ],
   "source": [
    "classes_held = int(input(\"How many classes are held? \"))\n",
    "classes_attended = int(input(\"How many classes did you attend? \"))\n",
    "percentage = round(((classes_attended/classes_held) * 100), 2)\n",
    "print(f\"You have attended {percentage}% classes.\")\n",
    "\n",
    "if percentage >= 75:\n",
    "    print(\"You're allowed to sit in exams.\")\n",
    "else:\n",
    "    print(\"You're not allowed to sit in exams.\")"
   ]
  },
  {
   "cell_type": "markdown",
   "metadata": {},
   "source": [
    "15) Modify the above question to allow student to sit if he/she has medical cause. Ask user if he/she has medical cause or not ( 'Y' or 'N' ) and print accordingly."
   ]
  },
  {
   "cell_type": "code",
   "execution_count": 28,
   "metadata": {},
   "outputs": [
    {
     "name": "stdout",
     "output_type": "stream",
     "text": [
      "How many classes are held?  10\n",
      "How many classes did you attend?  1\n"
     ]
    },
    {
     "name": "stdout",
     "output_type": "stream",
     "text": [
      "You have attended 10.0% classes.\n"
     ]
    },
    {
     "name": "stdout",
     "output_type": "stream",
     "text": [
      "Was the reason for missing classes a medical issue? Type 'Y' or 'N':  j\n"
     ]
    },
    {
     "name": "stdout",
     "output_type": "stream",
     "text": [
      "You're not allowed to sit in exams.\n"
     ]
    }
   ],
   "source": [
    "classes_held = int(input(\"How many classes are held? \"))\n",
    "classes_attended = int(input(\"How many classes did you attend? \"))\n",
    "percentage = (classes_attended/classes_held) * 100\n",
    "print(f\"You have attended {percentage}% classes.\")\n",
    "\n",
    "if percentage >= 75:\n",
    "    print(\"You're allowed to sit in exams.\")\n",
    "elif percentage < 75:\n",
    "    cause = (input(\"Was the reason for missing classes a medical issue? Type 'Y' or 'N': \")).upper()\n",
    "    if cause == \"Y\":\n",
    "        print(\"You're allowed to sit in exams.\")\n",
    "    else:\n",
    "        print(\"You're not allowed to sit in exams.\")\n",
    "    \n",
    "else:\n",
    "    print(\"You're not allowed to sit in exams.\")"
   ]
  },
  {
   "cell_type": "markdown",
   "metadata": {},
   "source": [
    "16) Write a program to check if a year is leap year or not.\n",
    "\n",
    "If a year is divisible by 4 then it is leap year but if the year is century year like 2000, 1900, 2100 then it must be divisible by 400."
   ]
  },
  {
   "cell_type": "code",
   "execution_count": 50,
   "metadata": {},
   "outputs": [
    {
     "name": "stdout",
     "output_type": "stream",
     "text": [
      "Enter an year:  2022\n"
     ]
    },
    {
     "name": "stdout",
     "output_type": "stream",
     "text": [
      "It's not a leap year.\n"
     ]
    }
   ],
   "source": [
    "year = int(input(\"Enter an year: \"))\n",
    "\n",
    "if year % 400 == 0 and year % 4 == 0:\n",
    "    print(\"It's a leap year.\")\n",
    "elif year % 4 == 0 and year % 100 != 0:\n",
    "    print(\"It's a leap year.\")\n",
    "else:\n",
    "    print(\"It's not a leap year.\")"
   ]
  },
  {
   "cell_type": "markdown",
   "metadata": {},
   "source": [
    "17) Ask user to enter age, gender ( M or F ), marital status ( Y or N ) and then using following rules print their place of service.\n",
    "\n",
    "if employee is female, then she will work only in urban areas.\n",
    "\n",
    "if employee is a male and age is in between 20 to 40 then he may work in anywhere\n",
    "\n",
    "if employee is male and age is in between 40 t0 60 then he will work in urban areas only.\n",
    "\n",
    "And any other input of age should print \"ERROR\""
   ]
  },
  {
   "cell_type": "code",
   "execution_count": 8,
   "metadata": {},
   "outputs": [
    {
     "name": "stdout",
     "output_type": "stream",
     "text": [
      "Enter your age:  81\n"
     ]
    },
    {
     "name": "stdout",
     "output_type": "stream",
     "text": [
      "ERROR\n"
     ]
    }
   ],
   "source": [
    "age = int(input(\"Enter your age: \"))\n",
    "if age >= 20 and age <= 60:\n",
    "    gender = (input(\"Enter your gender (M or F): \")).upper()\n",
    "    marital_status = (input(\"Enter your marital status (Y or N): \")).upper()\n",
    "    if gender == \"F\":\n",
    "        print(\"You'll work in urban areas.\")\n",
    "    elif gender == \"M\":\n",
    "        if 20 <= age < 40:\n",
    "            print(\"You can work anywhere you want.\")\n",
    "        elif 40 < age <= 60:\n",
    "            print(\"You'll work in urban areas.\")\n",
    "    else:\n",
    "        print('Wrong Input!')\n",
    "\n",
    "elif age > 60 or age < 20:\n",
    "    print(\"ERROR\")"
   ]
  },
  {
   "cell_type": "markdown",
   "metadata": {},
   "source": [
    " 6) Write a program to calculate the electricity bill (accept number of unit from user) according to the following criteria :\n",
    "     Unit                                                     Price  \n",
    "uptp 100 units                                             no charge\n",
    "Next 200 units                                              Rs 5 per unit\n",
    "After 200 units                                             Rs 10 per unit\n",
    "(For example if input unit is 350 than total bill amount is Rs.3500\n",
    "(For example if input unit is 97 than total bill amount is Rs.0\n",
    "(For example if input unit is 150 than total bill amount is Rs.750"
   ]
  },
  {
   "cell_type": "code",
   "execution_count": 54,
   "metadata": {},
   "outputs": [
    {
     "name": "stdout",
     "output_type": "stream",
     "text": [
      "How many units did you use?  350\n"
     ]
    },
    {
     "name": "stdout",
     "output_type": "stream",
     "text": [
      "Your bill is 3500.\n"
     ]
    }
   ],
   "source": [
    "no_units = int(input(\"How many units did you use? \"))\n",
    "slab_1 = 0\n",
    "slab_2 = 5\n",
    "slab_3 = 10\n",
    "\n",
    "if no_units <= 100:\n",
    "    print(f\"Your bill is {no_units * slab_1}.\")\n",
    "elif 200 >= no_units > 100:\n",
    "    print(f\"Your bill is {no_units * slab_2}.\")\n",
    "elif no_units > 200:\n",
    "    print(f\"Your bill is {no_units * slab_3}.\")"
   ]
  },
  {
   "cell_type": "markdown",
   "metadata": {},
   "source": [
    "13) Take input of age of 3 people by user and determine oldest and youngest among them."
   ]
  },
  {
   "cell_type": "code",
   "execution_count": 47,
   "metadata": {},
   "outputs": [
    {
     "name": "stdout",
     "output_type": "stream",
     "text": [
      "How many persons are there?  3\n",
      "What is name of the person?  Kabir\n",
      "What is age of the person?  29\n",
      "What is name of the person?  Muddassir\n",
      "What is age of the person?  30\n",
      "What is name of the person?  Huzaifa\n",
      "What is age of the person?  22\n"
     ]
    },
    {
     "name": "stdout",
     "output_type": "stream",
     "text": [
      "The youngest among these people is Huzaifa and his age is 22.\n",
      "The eldest among these people is Muddassir and his age is 30.\n"
     ]
    }
   ],
   "source": [
    "all_persons = []\n",
    "all_ages = []\n",
    "num_persons = int(input(\"How many persons are there? \"))\n",
    "for i in range(num_persons):\n",
    "    name = input(\"What is name of the person? \")\n",
    "    age = int(input(\"What is age of the person? \"))\n",
    "    all_persons.append(name)\n",
    "    all_ages.append(age)\n",
    "\n",
    "print(f\"The youngest among these people is {all_persons[all_ages.index(min(all_ages))]} and his age is {min(all_ages)}.\")\n",
    "print(f\"The eldest among these people is {all_persons[all_ages.index(max(all_ages))]} and his age is {max(all_ages)}.\")"
   ]
  },
  {
   "cell_type": "code",
   "execution_count": null,
   "metadata": {},
   "outputs": [],
   "source": []
  },
  {
   "cell_type": "code",
   "execution_count": null,
   "metadata": {},
   "outputs": [],
   "source": [
    "\n",
    "\n",
    "\n"
   ]
  },
  {
   "cell_type": "code",
   "execution_count": null,
   "metadata": {},
   "outputs": [],
   "source": []
  }
 ],
 "metadata": {
  "kernelspec": {
   "display_name": "Python 3 (ipykernel)",
   "language": "python",
   "name": "python3"
  },
  "language_info": {
   "codemirror_mode": {
    "name": "ipython",
    "version": 3
   },
   "file_extension": ".py",
   "mimetype": "text/x-python",
   "name": "python",
   "nbconvert_exporter": "python",
   "pygments_lexer": "ipython3",
   "version": "3.12.4"
  }
 },
 "nbformat": 4,
 "nbformat_minor": 4
}
